{
 "cells": [
  {
   "cell_type": "code",
   "execution_count": 1,
   "id": "2f675c6f-e85c-42f2-af4c-89f33a035b46",
   "metadata": {},
   "outputs": [],
   "source": [
    "import pandas as pd\n",
    "import mysql.connector"
   ]
  },
  {
   "cell_type": "code",
   "execution_count": 2,
   "id": "c2582b46-6d97-4cb1-8724-efcdd5818d06",
   "metadata": {},
   "outputs": [],
   "source": [
    "cell_phones_df = pd.read_csv(\"cell_phones_total.csv\")\n",
    "population_df = pd.read_csv(\"pop.csv\")"
   ]
  },
  {
   "cell_type": "code",
   "execution_count": 5,
   "id": "7d153acd-56d4-4ea1-b397-a4e2463ba0ff",
   "metadata": {},
   "outputs": [],
   "source": [
    "cell_phones_transposed = cell_phones_df.T\n",
    "population_transposed = population_df.T\n"
   ]
  },
  {
   "cell_type": "code",
   "execution_count": 6,
   "id": "07f476c2-4c25-4fef-b404-d3a3aa77e2c9",
   "metadata": {},
   "outputs": [
    {
     "name": "stdout",
     "output_type": "stream",
     "text": [
      "Transposed Cell Phones Data:\n",
      "           0            1       2        3        4      5          6    \\\n",
      "country  Aruba  Afghanistan  Angola  Albania  Andorra    UAE  Argentina   \n",
      "1960       0.0          0.0     0.0      0.0      0.0    NaN        0.0   \n",
      "1961       NaN          NaN     NaN      NaN      NaN    NaN        NaN   \n",
      "1962       NaN          NaN     NaN      NaN      NaN    NaN        NaN   \n",
      "1963       NaN          NaN     NaN      NaN      NaN    NaN        NaN   \n",
      "...        ...          ...     ...      ...      ...    ...        ...   \n",
      "2019      141k        22.6M   14.8M    2.63M    87.9k  19.6M      56.4M   \n",
      "2020      141k        22.7M   14.6M    2.62M    80.4k  18.4M      54.8M   \n",
      "2021      141k        22.7M   15.3M    2.64M    93.8k  18.2M      59.1M   \n",
      "2022       NaN        22.8M   23.7M    2.78M     114k    20M      59.7M   \n",
      "2023       NaN          23M   25.7M    2.61M     126k  21.2M      62.7M   \n",
      "\n",
      "             7               8                    9    ...        204  \\\n",
      "country  Armenia  American Samoa  Antigua and Barbuda  ...  Venezuela   \n",
      "1960         0.0             0.0                  0.0  ...        0.0   \n",
      "1961         NaN             NaN                  NaN  ...        NaN   \n",
      "1962         NaN             NaN                  NaN  ...        NaN   \n",
      "1963         NaN             NaN                  NaN  ...        NaN   \n",
      "...          ...             ...                  ...  ...        ...   \n",
      "2019       3.62M             NaN                 184k  ...      18.5M   \n",
      "2020       3.49M             NaN                 184k  ...      16.5M   \n",
      "2021        3.6M             NaN                 184k  ...        17M   \n",
      "2022       3.76M             NaN                  NaN  ...      18.8M   \n",
      "2023       3.96M             NaN                  NaN  ...        NaN   \n",
      "\n",
      "                            205                    206      207      208  \\\n",
      "country  British Virgin Islands  Virgin Islands (U.S.)  Vietnam  Vanuatu   \n",
      "1960                        0.0                    0.0      0.0      0.0   \n",
      "1961                        NaN                    NaN      NaN      NaN   \n",
      "1962                        NaN                    NaN      NaN      NaN   \n",
      "1963                        NaN                    NaN      NaN      NaN   \n",
      "...                         ...                    ...      ...      ...   \n",
      "2019                      39.5k                    80k     136M     265k   \n",
      "2020                      35.2k                    80k     139M     246k   \n",
      "2021                      37.6k                    80k     135M     250k   \n",
      "2022                        NaN                    NaN     137M     256k   \n",
      "2023                        NaN                    NaN     131M      NaN   \n",
      "\n",
      "           209    210           211     212       213  \n",
      "country  Samoa  Yemen  South Africa  Zambia  Zimbabwe  \n",
      "1960       0.0    0.0           0.0     0.0       0.0  \n",
      "1961       NaN    NaN           NaN     NaN       NaN  \n",
      "1962       NaN    NaN           NaN     NaN       NaN  \n",
      "1963       NaN    NaN           NaN     NaN       NaN  \n",
      "...        ...    ...           ...     ...       ...  \n",
      "2019       84k  15.2M           97M   17.2M     13.2M  \n",
      "2020       69k  15.2M           96M   19.1M     13.2M  \n",
      "2021       69k  17.8M          100M   20.2M     14.3M  \n",
      "2022      134k  17.8M          100M   19.8M     14.3M  \n",
      "2023       NaN    20M          108M   21.2M       15M  \n",
      "\n",
      "[65 rows x 214 columns]\n"
     ]
    }
   ],
   "source": [
    "print(\"Transposed Cell Phones Data:\")\n",
    "print(cell_phones_transposed)"
   ]
  },
  {
   "cell_type": "code",
   "execution_count": 21,
   "id": "379889cf-b7d1-40da-b7e9-98031423ab40",
   "metadata": {},
   "outputs": [
    {
     "ename": "AttributeError",
     "evalue": "'DataFrame' object has no attribute 'Tcolumns'",
     "output_type": "error",
     "traceback": [
      "\u001b[1;31m---------------------------------------------------------------------------\u001b[0m",
      "\u001b[1;31mAttributeError\u001b[0m                            Traceback (most recent call last)",
      "\u001b[1;32m~\\AppData\\Local\\Temp\\ipykernel_32072\\2334771528.py\u001b[0m in \u001b[0;36m?\u001b[1;34m()\u001b[0m\n\u001b[1;32m----> 1\u001b[1;33m \u001b[0mcell_phones_df\u001b[0m\u001b[1;33m.\u001b[0m\u001b[0mcolumns\u001b[0m \u001b[1;33m=\u001b[0m \u001b[0mcell_phones_df\u001b[0m\u001b[1;33m.\u001b[0m\u001b[0mTcolumns\u001b[0m\u001b[1;33m.\u001b[0m\u001b[0mstr\u001b[0m\u001b[1;33m.\u001b[0m\u001b[0mstrip\u001b[0m\u001b[1;33m(\u001b[0m\u001b[1;33m)\u001b[0m\u001b[1;33m\u001b[0m\u001b[1;33m\u001b[0m\u001b[0m\n\u001b[0m\u001b[0;32m      2\u001b[0m \u001b[0mpopulation_df\u001b[0m\u001b[1;33m.\u001b[0m\u001b[0mcolumns\u001b[0m \u001b[1;33m=\u001b[0m \u001b[0mpopulation_df\u001b[0m\u001b[1;33m.\u001b[0m\u001b[0mTcolumns\u001b[0m\u001b[1;33m.\u001b[0m\u001b[0mstr\u001b[0m\u001b[1;33m.\u001b[0m\u001b[0mstrip\u001b[0m\u001b[1;33m(\u001b[0m\u001b[1;33m)\u001b[0m\u001b[1;33m\u001b[0m\u001b[1;33m\u001b[0m\u001b[0m\n",
      "\u001b[1;32mC:\\ProgramData\\anaconda3\\Lib\\site-packages\\pandas\\core\\generic.py\u001b[0m in \u001b[0;36m?\u001b[1;34m(self, name)\u001b[0m\n\u001b[0;32m   6295\u001b[0m             \u001b[1;32mand\u001b[0m \u001b[0mname\u001b[0m \u001b[1;32mnot\u001b[0m \u001b[1;32min\u001b[0m \u001b[0mself\u001b[0m\u001b[1;33m.\u001b[0m\u001b[0m_accessors\u001b[0m\u001b[1;33m\u001b[0m\u001b[1;33m\u001b[0m\u001b[0m\n\u001b[0;32m   6296\u001b[0m             \u001b[1;32mand\u001b[0m \u001b[0mself\u001b[0m\u001b[1;33m.\u001b[0m\u001b[0m_info_axis\u001b[0m\u001b[1;33m.\u001b[0m\u001b[0m_can_hold_identifiers_and_holds_name\u001b[0m\u001b[1;33m(\u001b[0m\u001b[0mname\u001b[0m\u001b[1;33m)\u001b[0m\u001b[1;33m\u001b[0m\u001b[1;33m\u001b[0m\u001b[0m\n\u001b[0;32m   6297\u001b[0m         \u001b[1;33m)\u001b[0m\u001b[1;33m:\u001b[0m\u001b[1;33m\u001b[0m\u001b[1;33m\u001b[0m\u001b[0m\n\u001b[0;32m   6298\u001b[0m             \u001b[1;32mreturn\u001b[0m \u001b[0mself\u001b[0m\u001b[1;33m[\u001b[0m\u001b[0mname\u001b[0m\u001b[1;33m]\u001b[0m\u001b[1;33m\u001b[0m\u001b[1;33m\u001b[0m\u001b[0m\n\u001b[1;32m-> 6299\u001b[1;33m         \u001b[1;32mreturn\u001b[0m \u001b[0mobject\u001b[0m\u001b[1;33m.\u001b[0m\u001b[0m__getattribute__\u001b[0m\u001b[1;33m(\u001b[0m\u001b[0mself\u001b[0m\u001b[1;33m,\u001b[0m \u001b[0mname\u001b[0m\u001b[1;33m)\u001b[0m\u001b[1;33m\u001b[0m\u001b[1;33m\u001b[0m\u001b[0m\n\u001b[0m",
      "\u001b[1;31mAttributeError\u001b[0m: 'DataFrame' object has no attribute 'Tcolumns'"
     ]
    }
   ],
   "source": [
    "cell_phones_df.columns = cell_phones_df.Tcolumns.str.strip()\n",
    "population_df.columns = population_df.Tcolumns.str.strip()\n"
   ]
  },
  {
   "cell_type": "code",
   "execution_count": 11,
   "id": "06989527-c364-427f-aa70-97553268e33a",
   "metadata": {},
   "outputs": [],
   "source": [
    "cell_phones_df = cell_phones_df.melt(id_vars=['country'], var_name='Year', value_name='Cell_Phone_Total')\n",
    "population_df = population_df.melt(id_vars=['country'], var_name='Year', value_name='Population')\n"
   ]
  },
  {
   "cell_type": "code",
   "execution_count": 12,
   "id": "9dc285d8-2ef0-47db-98eb-7ee5878f6a98",
   "metadata": {},
   "outputs": [],
   "source": [
    "cell_phones_df.rename(columns={'country': 'Country'}, inplace=True)\n",
    "population_df.rename(columns={'country': 'Country'}, inplace=True)\n",
    "cell_phones_df['Year'] = cell_phones_df['Year'].astype(int)\n",
    "population_df['Year'] = population_df['Year'].astype(int)\n"
   ]
  },
  {
   "cell_type": "code",
   "execution_count": 13,
   "id": "29e5db4e-7081-48ed-9ace-a4203599870e",
   "metadata": {},
   "outputs": [
    {
     "name": "stdout",
     "output_type": "stream",
     "text": [
      "<mysql.connector.connection.MySQLConnection object at 0x000001C884943560>\n"
     ]
    }
   ],
   "source": [
    "db = mysql.connector.connect(host=\"localhost\",user=\"root\",password=\"Logesh\",database=\"bootcamp\")\n",
    "cursor = db.cursor()\n",
    "print(db)\n",
    "cursor = db.cursor()\n"
   ]
  },
  {
   "cell_type": "code",
   "execution_count": 14,
   "id": "41891368-49cd-4876-81fc-f9510ef0bc3c",
   "metadata": {},
   "outputs": [],
   "source": [
    "cursor.execute(\"\"\"\n",
    "    CREATE TABLE IF NOT EXISTS CellPhones (\n",
    "        Country VARCHAR(100),\n",
    "        Year INT,\n",
    "        Cell_Phone_Total BIGINT,\n",
    "        PRIMARY KEY (Country, Year)\n",
    "    )\n",
    "\"\"\")\n"
   ]
  },
  {
   "cell_type": "code",
   "execution_count": 15,
   "id": "953aa64a-45f4-494e-a7cd-22de7f2bc19d",
   "metadata": {},
   "outputs": [],
   "source": [
    "cursor.execute(\"\"\"\n",
    "    CREATE TABLE IF NOT EXISTS Population (\n",
    "        Country VARCHAR(100),\n",
    "        Year INT,\n",
    "        Population VARCHAR(20),  # VARCHAR to handle values like \"3.28M\"\n",
    "        PRIMARY KEY (Country, Year)\n",
    "    )\n",
    "\"\"\")\n"
   ]
  },
  {
   "cell_type": "code",
   "execution_count": 16,
   "id": "237c3f19-4316-4d5e-984d-260240990471",
   "metadata": {},
   "outputs": [
    {
     "name": "stdout",
     "output_type": "stream",
     "text": [
      "Tables created successfully!\n"
     ]
    }
   ],
   "source": [
    "db.commit()\n",
    "print(\"Tables created successfully!\")\n"
   ]
  },
  {
   "cell_type": "code",
   "execution_count": 17,
   "id": "607e53e4-6fa0-4244-a557-50f11644a136",
   "metadata": {},
   "outputs": [],
   "source": [
    "for _, row in cell_phones_df.iterrows():\n",
    "    cell_phone_total = row['Cell_Phone_Total'] if pd.notna(row['Cell_Phone_Total']) else 0\n",
    "    cursor.execute(\n",
    "        \"INSERT IGNORE INTO CellPhones (Country, Year, Cell_Phone_Total) VALUES (%s, %s, %s)\",\n",
    "        (row['Country'], row['Year'], cell_phone_total)\n",
    "    )\n",
    "\n",
    "for _, row in population_df.iterrows():\n",
    "    cursor.execute(\n",
    "        \"INSERT IGNORE INTO Population (Country, Year, Population) VALUES (%s, %s, %s)\",\n",
    "        (row['Country'], row['Year'], row['Population'])\n",
    "    )\n",
    "\n"
   ]
  },
  {
   "cell_type": "code",
   "execution_count": 18,
   "id": "ed045e0f-ae5f-43b9-adef-1a9f3537f925",
   "metadata": {},
   "outputs": [
    {
     "name": "stdout",
     "output_type": "stream",
     "text": [
      "Data inserted successfully!\n"
     ]
    }
   ],
   "source": [
    "db.commit()\n",
    "print(\"Data inserted successfully!\")\n"
   ]
  },
  {
   "cell_type": "code",
   "execution_count": null,
   "id": "91732ff6-c131-4962-a234-766508204487",
   "metadata": {},
   "outputs": [],
   "source": []
  }
 ],
 "metadata": {
  "kernelspec": {
   "display_name": "Python 3 (ipykernel)",
   "language": "python",
   "name": "python3"
  },
  "language_info": {
   "codemirror_mode": {
    "name": "ipython",
    "version": 3
   },
   "file_extension": ".py",
   "mimetype": "text/x-python",
   "name": "python",
   "nbconvert_exporter": "python",
   "pygments_lexer": "ipython3",
   "version": "3.12.4"
  }
 },
 "nbformat": 4,
 "nbformat_minor": 5
}
