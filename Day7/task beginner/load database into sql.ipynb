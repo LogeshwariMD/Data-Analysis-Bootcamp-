{
 "cells": [
  {
   "cell_type": "code",
   "execution_count": 28,
   "id": "c71cb80f-37a8-4a89-b5a9-830af053213c",
   "metadata": {},
   "outputs": [],
   "source": [
    "import pandas as pd\n",
    "import mysql.connector"
   ]
  },
  {
   "cell_type": "code",
   "execution_count": 29,
   "id": "42036520-0420-4e41-b9a9-bf3efb0937d6",
   "metadata": {},
   "outputs": [],
   "source": [
    "cell_phones_df = pd.read_csv(\"cell_phones_total.csv\")\n",
    "population_df = pd.read_csv(\"pop.csv\")\n",
    "\n",
    "\n"
   ]
  },
  {
   "cell_type": "code",
   "execution_count": 30,
   "id": "477c76b7-c723-4833-84b8-52fcb0e5cbd5",
   "metadata": {},
   "outputs": [],
   "source": [
    "df_phones.columns = cell_phones_df.columns.str.strip()\n",
    "df_population.columns = population_df.columns.str.strip()\n"
   ]
  },
  {
   "cell_type": "code",
   "execution_count": 31,
   "id": "4f024cc6-3ac2-4b9e-81cd-770689598c35",
   "metadata": {},
   "outputs": [],
   "source": [
    "cell_phones_df = cell_phones_df.melt(id_vars=['country'], var_name='Year', value_name='Cell_Phone_Total')\n",
    "population_df = population_df.melt(id_vars=['country'], var_name='Year', value_name='Population')\n"
   ]
  },
  {
   "cell_type": "code",
   "execution_count": 32,
   "id": "300332f7-52c9-41ae-9e30-e68be42a0d92",
   "metadata": {},
   "outputs": [],
   "source": [
    "cell_phones_df.rename(columns={'country': 'Country'}, inplace=True)\n",
    "population_df.rename(columns={'country': 'Country'}, inplace=True)\n",
    "cell_phones_df['Year'] = cell_phones_df['Year'].astype(int)\n",
    "population_df['Year'] = population_df['Year'].astype(int)\n"
   ]
  },
  {
   "cell_type": "code",
   "execution_count": 33,
   "id": "7709ed06-fd7a-4341-81bd-513a595c4ad9",
   "metadata": {},
   "outputs": [
    {
     "name": "stdout",
     "output_type": "stream",
     "text": [
      "<mysql.connector.connection.MySQLConnection object at 0x0000020D6CE4C8F0>\n"
     ]
    }
   ],
   "source": [
    "db = mysql.connector.connect(host=\"localhost\",user=\"root\",password=\"Logesh\",database=\"bootcamp\")\n",
    "cursor = db.cursor()\n",
    "print(db)\n",
    "cursor = db.cursor()\n"
   ]
  },
  {
   "cell_type": "code",
   "execution_count": 34,
   "id": "c7724588-6732-414a-bca6-a86d5a08aa80",
   "metadata": {},
   "outputs": [],
   "source": [
    "cursor.execute(\"\"\"\n",
    "    CREATE TABLE IF NOT EXISTS CellPhones (\n",
    "        Country VARCHAR(100),\n",
    "        Year INT,\n",
    "        Cell_Phone_Total BIGINT,\n",
    "        PRIMARY KEY (Country, Year)\n",
    "    )\n",
    "\"\"\")\n"
   ]
  },
  {
   "cell_type": "code",
   "execution_count": 39,
   "id": "b2368e2b-bb62-4555-af69-546d29151de8",
   "metadata": {},
   "outputs": [],
   "source": [
    "cursor.execute(\"\"\"\n",
    "    CREATE TABLE IF NOT EXISTS Population (\n",
    "        Country VARCHAR(100),\n",
    "        Year INT,\n",
    "        Population VARCHAR(20),  # VARCHAR to handle values like \"3.28M\"\n",
    "        PRIMARY KEY (Country, Year)\n",
    "    )\n",
    "\"\"\")\n"
   ]
  },
  {
   "cell_type": "code",
   "execution_count": 40,
   "id": "fb1b6f17-5b3e-4831-ac55-4ecd69513e0a",
   "metadata": {},
   "outputs": [
    {
     "name": "stdout",
     "output_type": "stream",
     "text": [
      "Tables created successfully!\n"
     ]
    }
   ],
   "source": [
    "db.commit()\n",
    "print(\"Tables created successfully!\")\n"
   ]
  },
  {
   "cell_type": "code",
   "execution_count": 41,
   "id": "022c6b75-c18c-4ccb-879a-0e23328f79e6",
   "metadata": {},
   "outputs": [],
   "source": [
    "for _, row in cell_phones_df.iterrows():\n",
    "    cell_phone_total = row['Cell_Phone_Total'] if pd.notna(row['Cell_Phone_Total']) else 0\n",
    "    cursor.execute(\n",
    "        \"INSERT IGNORE INTO CellPhones (Country, Year, Cell_Phone_Total) VALUES (%s, %s, %s)\",\n",
    "        (row['Country'], row['Year'], cell_phone_total)\n",
    "    )\n",
    "\n",
    "for _, row in population_df.iterrows():\n",
    "    cursor.execute(\n",
    "        \"INSERT IGNORE INTO Population (Country, Year, Population) VALUES (%s, %s, %s)\",\n",
    "        (row['Country'], row['Year'], row['Population'])\n",
    "    )\n",
    "\n",
    "\n",
    "\n"
   ]
  },
  {
   "cell_type": "code",
   "execution_count": 43,
   "id": "964de651-fe33-4a79-9ceb-2840299553c0",
   "metadata": {},
   "outputs": [
    {
     "name": "stdout",
     "output_type": "stream",
     "text": [
      "Data inserted successfully!\n"
     ]
    }
   ],
   "source": [
    "db.commit()\n",
    "print(\"Data inserted successfully!\")\n"
   ]
  },
  {
   "cell_type": "code",
   "execution_count": 44,
   "id": "e2e2976e-d76a-42ae-a7e3-894791edf4d8",
   "metadata": {},
   "outputs": [],
   "source": [
    "cursor.execute(\"\"\"\n",
    "    UPDATE CellPhones \n",
    "    SET Cell_Phone_Total = 0 \n",
    "    WHERE Cell_Phone_Total IS NULL;\n",
    "\"\"\")\n"
   ]
  },
  {
   "cell_type": "code",
   "execution_count": 45,
   "id": "48e0438b-bb9e-422a-95dd-b73934002c49",
   "metadata": {},
   "outputs": [
    {
     "name": "stdout",
     "output_type": "stream",
     "text": [
      "Updated NULL values to 0.\n"
     ]
    }
   ],
   "source": [
    "db.commit()\n",
    "print(\"Updated NULL values to 0.\")\n",
    "\n"
   ]
  },
  {
   "cell_type": "code",
   "execution_count": 46,
   "id": "5d1bd0b9-8b5a-4f79-9fd3-f86121b7b2f7",
   "metadata": {},
   "outputs": [
    {
     "name": "stdout",
     "output_type": "stream",
     "text": [
      "Latest Year: 2023\n"
     ]
    }
   ],
   "source": [
    "cursor.execute(\"SELECT MAX(Year) FROM CellPhones;\")\n",
    "latest_year = cursor.fetchone()[0]\n",
    "print(f\"Latest Year: {latest_year}\")\n"
   ]
  },
  {
   "cell_type": "code",
   "execution_count": 47,
   "id": "0ee1c8d6-2d54-4311-9f5a-1db336734b75",
   "metadata": {},
   "outputs": [
    {
     "name": "stdout",
     "output_type": "stream",
     "text": [
      "\n",
      "🔝 Top 10 Countries by Mobile Phone Usage in 2023\n",
      "('Suriname', 989)\n",
      "('Luxembourg', 961)\n",
      "('Comoros', 934)\n",
      "('Bhutan', 752)\n",
      "('Malta', 749)\n",
      "('Maldives', 745)\n",
      "('Cape Verde', 590)\n",
      "('Djibouti', 574)\n",
      "('Brunei', 541)\n",
      "('Iceland', 478)\n"
     ]
    }
   ],
   "source": [
    "cursor.execute(f\"\"\"\n",
    "    SELECT Country, Cell_Phone_Total \n",
    "    FROM CellPhones \n",
    "    WHERE Year = {latest_year}\n",
    "    ORDER BY Cell_Phone_Total DESC\n",
    "    LIMIT 10;\n",
    "\"\"\")\n",
    "top_countries = cursor.fetchall()\n",
    "\n",
    "print(\"\\n🔝 Top 10 Countries by Mobile Phone Usage in\", latest_year)\n",
    "for country in top_countries:\n",
    "    print(country)\n"
   ]
  },
  {
   "cell_type": "code",
   "execution_count": 48,
   "id": "ec38a5bb-58e9-4d2e-9dda-4586aac0cd8f",
   "metadata": {},
   "outputs": [
    {
     "name": "stdout",
     "output_type": "stream",
     "text": [
      "\n",
      "📈 Mobile Growth in India\n",
      "1960: 0\n",
      "1961: 0\n",
      "1962: 0\n",
      "1963: 0\n",
      "1964: 0\n",
      "1965: 0\n",
      "1966: 0\n",
      "1967: 0\n",
      "1968: 0\n",
      "1969: 0\n",
      "1970: 0\n",
      "1971: 0\n",
      "1972: 0\n",
      "1973: 0\n",
      "1974: 0\n",
      "1975: 0\n",
      "1976: 0\n",
      "1977: 0\n",
      "1978: 0\n",
      "1979: 0\n",
      "1980: 0\n",
      "1981: 0\n",
      "1982: 0\n",
      "1983: 0\n",
      "1984: 0\n",
      "1985: 0\n",
      "1986: 0\n",
      "1987: 0\n",
      "1988: 0\n",
      "1989: 0\n",
      "1990: 0\n",
      "1991: 0\n",
      "1992: 0\n",
      "1993: 0\n",
      "1994: 0\n",
      "1995: 77\n",
      "1996: 328\n",
      "1997: 882\n",
      "1998: 1\n",
      "1999: 2\n",
      "2000: 4\n",
      "2001: 7\n",
      "2002: 13\n",
      "2003: 34\n",
      "2004: 52\n",
      "2005: 90\n",
      "2006: 166\n",
      "2007: 234\n",
      "2008: 347\n",
      "2009: 525\n",
      "2010: 752\n",
      "2011: 894\n",
      "2012: 865\n",
      "2013: 886\n",
      "2014: 944\n",
      "2015: 1\n",
      "2016: 1\n",
      "2017: 1\n",
      "2018: 1\n",
      "2019: 1\n",
      "2020: 1\n",
      "2021: 1\n",
      "2022: 1\n",
      "2023: 0\n"
     ]
    }
   ],
   "source": [
    "cursor.execute(\"\"\"\n",
    "    SELECT Year, Cell_Phone_Total \n",
    "    FROM CellPhones \n",
    "    WHERE Country = 'India'\n",
    "    ORDER BY Year ASC;\n",
    "\"\"\")\n",
    "india_growth = cursor.fetchall()\n",
    "\n",
    "print(\"\\n📈 Mobile Growth in India\")\n",
    "for year, phones in india_growth:\n",
    "    print(f\"{year}: {phones}\")\n"
   ]
  },
  {
   "cell_type": "code",
   "execution_count": 49,
   "id": "67fa4f56-2b2c-4c7d-a60b-0561cab643e8",
   "metadata": {},
   "outputs": [
    {
     "name": "stdout",
     "output_type": "stream",
     "text": [
      "Data exported successfully to top_mobile_usage_2022.csv\n"
     ]
    },
    {
     "name": "stderr",
     "output_type": "stream",
     "text": [
      "C:\\Users\\loges\\AppData\\Local\\Temp\\ipykernel_9052\\2135104897.py:1: UserWarning: pandas only supports SQLAlchemy connectable (engine/connection) or database string URI or sqlite3 DBAPI2 connection. Other DBAPI2 objects are not tested. Please consider using SQLAlchemy.\n",
      "  df = pd.read_sql(\"SELECT * FROM CellPhones WHERE Year = 2022 ORDER BY Cell_Phone_Total DESC;\", db)\n"
     ]
    }
   ],
   "source": [
    "df = pd.read_sql(\"SELECT * FROM CellPhones WHERE Year = 2022 ORDER BY Cell_Phone_Total DESC;\", db)\n",
    "df.to_csv(\"top_mobile_usage_2022.csv\", index=False)\n",
    "print(\"Data exported successfully to top_mobile_usage_2022.csv\")\n",
    "\n",
    "\n"
   ]
  },
  {
   "cell_type": "code",
   "execution_count": 51,
   "id": "b4c16371-8753-4605-9155-b8e63d4bbf4f",
   "metadata": {},
   "outputs": [
    {
     "name": "stdout",
     "output_type": "stream",
     "text": [
      "MySQL connection closed.\n"
     ]
    }
   ],
   "source": [
    "cursor.close()\n",
    "db.close()\n",
    "print(\"MySQL connection closed.\")\n"
   ]
  },
  {
   "cell_type": "code",
   "execution_count": null,
   "id": "f62c59ba-f915-47c4-afc8-cb2aa4376f42",
   "metadata": {},
   "outputs": [],
   "source": []
  },
  {
   "cell_type": "code",
   "execution_count": null,
   "id": "c97e7c64-df3e-44bc-ba26-038e2ae81ea1",
   "metadata": {},
   "outputs": [],
   "source": []
  }
 ],
 "metadata": {
  "kernelspec": {
   "display_name": "Python 3 (ipykernel)",
   "language": "python",
   "name": "python3"
  },
  "language_info": {
   "codemirror_mode": {
    "name": "ipython",
    "version": 3
   },
   "file_extension": ".py",
   "mimetype": "text/x-python",
   "name": "python",
   "nbconvert_exporter": "python",
   "pygments_lexer": "ipython3",
   "version": "3.12.4"
  }
 },
 "nbformat": 4,
 "nbformat_minor": 5
}
