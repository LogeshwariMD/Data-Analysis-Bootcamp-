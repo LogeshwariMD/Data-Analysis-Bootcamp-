{
 "cells": [
  {
   "cell_type": "code",
   "execution_count": 4,
   "id": "55e161be-9dfa-4d10-aacc-c1140d70076d",
   "metadata": {},
   "outputs": [],
   "source": [
    "import pandas as pd\n",
    "import mysql.connector"
   ]
  },
  {
   "cell_type": "code",
   "execution_count": 5,
   "id": "f839f157-abcf-4a27-a6ac-ec8ed423949c",
   "metadata": {},
   "outputs": [
    {
     "name": "stdout",
     "output_type": "stream",
     "text": [
      "           Restaurant_Name                                           Category  \\\n",
      "0              Burma Burma  Asian, Burmese, Bubble Tea, Salad, Tea, Desser...   \n",
      "1     Windmills Craftworks  Continental, Fast Food, Kebab, Beverages, Ital...   \n",
      "2           CTR Shri Sagar                                       South Indian   \n",
      "3     Brahmin's Coffee Bar                                       South Indian   \n",
      "4         Milano Ice Cream                     Desserts, Ice Cream, Beverages   \n",
      "...                    ...                                                ...   \n",
      "5104     Chopstick Kitchen                            Chinese, Momos, Seafood   \n",
      "5105         Punjabi Dhaba                                       North Indian   \n",
      "5106  Abhiruchi Restaurant  Biryani, Andhra, North Indian, Chinese, Hydera...   \n",
      "5107      The Q Restaurant                      North Indian, Chinese, Kerala   \n",
      "5108      Flavors Of India           North Indian, Chinese, Andhra, Fast Food   \n",
      "\n",
      "      Pricing_for_2                          Locality  Dining_Rating  \\\n",
      "0              1500            Indiranagar, Bangalore            4.9   \n",
      "1              2500   Windmills Craftworks, Bangalore            4.9   \n",
      "2               150           Malleshwaram, Bangalore            4.9   \n",
      "3               100           Basavanagudi, Bangalore            4.9   \n",
      "4               400            Indiranagar, Bangalore            4.9   \n",
      "...             ...                               ...            ...   \n",
      "5104            600         CV Raman Nagar, Bangalore            3.3   \n",
      "5105            600                 Jakkur, Bangalore            3.3   \n",
      "5106            550          Sarjapur Road, Bangalore            3.3   \n",
      "5107            550               Nagawara, Bangalore            3.3   \n",
      "5108            800           Marathahalli, Bangalore            3.3   \n",
      "\n",
      "      Dining_Review_Count  Delivery_Rating  Delivery_Rating_Count  \\\n",
      "0                  2790.0              4.5                  838.0   \n",
      "1                  6543.0              4.2                  524.0   \n",
      "2                  4837.0              4.3                22100.0   \n",
      "3                  2975.0              4.4                  372.0   \n",
      "4                  2575.0              4.4                 1180.0   \n",
      "...                   ...              ...                    ...   \n",
      "5104                 79.0              3.1                  895.0   \n",
      "5105                 21.0              3.9                  878.0   \n",
      "5106                 36.0              3.8                 4300.0   \n",
      "5107                 97.0              NaN                    0.0   \n",
      "5108                 34.0              NaN                   11.0   \n",
      "\n",
      "                                                Website  \\\n",
      "0     https://www.zomato.com/bangalore/burma-burma-i...   \n",
      "1     https://www.zomato.com/bangalore/windmills-cra...   \n",
      "2     https://www.zomato.com/bangalore/ctr-shri-saga...   \n",
      "3     https://www.zomato.com/bangalore/brahmins-coff...   \n",
      "4     https://www.zomato.com/bangalore/milano-ice-cr...   \n",
      "...                                                 ...   \n",
      "5104  https://www.zomato.com/bangalore/chopstick-kit...   \n",
      "5105  https://www.zomato.com/bangalore/punjabi-dhaba...   \n",
      "5106  https://www.zomato.com/bangalore/abhiruchi-res...   \n",
      "5107  https://www.zomato.com/bangalore/the-q-restaur...   \n",
      "5108  https://www.zomato.com/bangalore/flavors-of-in...   \n",
      "\n",
      "                                                Address     Phone_No  \\\n",
      "0     607, Ground Floor, 12th Main, Hal 2nd Stage, I...  9.18043E+11   \n",
      "1     78, Immaine Epip Industrial Area, Whitefield B...   9.1888E+11   \n",
      "2      7th Cross, Margosa Road, Malleshwaram, Bangalore  9.18023E+11   \n",
      "3          Ranga Rao Road, Near Basavanagudi, Bangalore  9.19845E+11   \n",
      "4     460, 2nd Cross, Krishna Temple Road, Indiranag...  9.18041E+11   \n",
      "...                                                 ...          ...   \n",
      "5104  Shop 4, Kalpavruksha Complex, 13th Cross, Cauv...  9.19008E+11   \n",
      "5105  547, Opposite Rashtrotana School, RK Hegde Nag...  9.18126E+11   \n",
      "5106  Site 6/2, Food World Supply Market Road, 12th ...   9.1805E+11   \n",
      "5107  Opposite To Manyata Tech Park, Outer Ring Road...  9.18951E+11   \n",
      "5108     43, Kundanahalli Gate, Marathahalli, Bangalore  9.19513E+11   \n",
      "\n",
      "       Latitude  Longitude  \n",
      "0     12.970394  77.644713  \n",
      "1     12.982413  77.721979  \n",
      "2     12.998270  77.569455  \n",
      "3     12.954043  77.568865  \n",
      "4     12.979121  77.644039  \n",
      "...         ...        ...  \n",
      "5104  12.977300  77.665640  \n",
      "5105  13.068979  77.633497  \n",
      "5106  12.908860  77.680574  \n",
      "5107  12.913854  77.608900  \n",
      "5108  12.955789  77.714532  \n",
      "\n",
      "[5109 rows x 13 columns]\n"
     ]
    }
   ],
   "source": [
    "\n",
    "restaurants_df = pd.read_csv(\"Bangalore_Restaurants.csv\")\n",
    "print(restaurants_df)"
   ]
  },
  {
   "cell_type": "code",
   "execution_count": 6,
   "id": "ff4d112a-6d5e-45ad-a06b-455f8065d782",
   "metadata": {},
   "outputs": [
    {
     "name": "stdout",
     "output_type": "stream",
     "text": [
      "        Restaurant_Name                                           Category  \\\n",
      "0           Burma Burma  Asian, Burmese, Bubble Tea, Salad, Tea, Desser...   \n",
      "1  Windmills Craftworks  Continental, Fast Food, Kebab, Beverages, Ital...   \n",
      "2        CTR Shri Sagar                                       South Indian   \n",
      "3  Brahmin's Coffee Bar                                       South Indian   \n",
      "4      Milano Ice Cream                     Desserts, Ice Cream, Beverages   \n",
      "\n",
      "   Pricing_for_2                          Locality  Dining_Rating  \\\n",
      "0           1500            Indiranagar, Bangalore            4.9   \n",
      "1           2500   Windmills Craftworks, Bangalore            4.9   \n",
      "2            150           Malleshwaram, Bangalore            4.9   \n",
      "3            100           Basavanagudi, Bangalore            4.9   \n",
      "4            400            Indiranagar, Bangalore            4.9   \n",
      "\n",
      "   Dining_Review_Count  Delivery_Rating  Delivery_Rating_Count  \\\n",
      "0               2790.0              4.5                  838.0   \n",
      "1               6543.0              4.2                  524.0   \n",
      "2               4837.0              4.3                22100.0   \n",
      "3               2975.0              4.4                  372.0   \n",
      "4               2575.0              4.4                 1180.0   \n",
      "\n",
      "                                             Website  \\\n",
      "0  https://www.zomato.com/bangalore/burma-burma-i...   \n",
      "1  https://www.zomato.com/bangalore/windmills-cra...   \n",
      "2  https://www.zomato.com/bangalore/ctr-shri-saga...   \n",
      "3  https://www.zomato.com/bangalore/brahmins-coff...   \n",
      "4  https://www.zomato.com/bangalore/milano-ice-cr...   \n",
      "\n",
      "                                             Address     Phone_No   Latitude  \\\n",
      "0  607, Ground Floor, 12th Main, Hal 2nd Stage, I...  9.18043E+11  12.970394   \n",
      "1  78, Immaine Epip Industrial Area, Whitefield B...   9.1888E+11  12.982413   \n",
      "2   7th Cross, Margosa Road, Malleshwaram, Bangalore  9.18023E+11  12.998270   \n",
      "3       Ranga Rao Road, Near Basavanagudi, Bangalore  9.19845E+11  12.954043   \n",
      "4  460, 2nd Cross, Krishna Temple Road, Indiranag...  9.18041E+11  12.979121   \n",
      "\n",
      "   Longitude  \n",
      "0  77.644713  \n",
      "1  77.721979  \n",
      "2  77.569455  \n",
      "3  77.568865  \n",
      "4  77.644039  \n"
     ]
    }
   ],
   "source": [
    "print(restaurants_df.head())\n"
   ]
  },
  {
   "cell_type": "code",
   "execution_count": 7,
   "id": "6a4ff4cb-01d1-461f-b56b-e29e8ad07d1f",
   "metadata": {},
   "outputs": [],
   "source": [
    "import mysql.connector"
   ]
  },
  {
   "cell_type": "code",
   "execution_count": 19,
   "id": "0cfd44fe-f0cc-4f9a-8b46-20ce08c9241b",
   "metadata": {},
   "outputs": [
    {
     "name": "stdout",
     "output_type": "stream",
     "text": [
      "<mysql.connector.connection.MySQLConnection object at 0x0000021D11676360>\n"
     ]
    }
   ],
   "source": [
    "db = mysql.connector.connect(host=\"localhost\",user=\"root\",password=\"Logesh\",database=\"zomoto\")\n",
    "cursor = db.cursor()\n",
    "print(db)"
   ]
  },
  {
   "cell_type": "code",
   "execution_count": 20,
   "id": "0061b4b8-2f4a-4c7e-9451-bcf3117e1922",
   "metadata": {},
   "outputs": [
    {
     "name": "stdout",
     "output_type": "stream",
     "text": [
      "✅ Table 'restaurants' is ready!\n"
     ]
    }
   ],
   "source": [
    "cursor.execute(\"\"\"\n",
    "    CREATE TABLE IF NOT EXISTS Restaurants (\n",
    "        id INT AUTO_INCREMENT PRIMARY KEY,\n",
    "        restaurant_name VARCHAR(255),\n",
    "        latitude FLOAT,\n",
    "        longitude FLOAT\n",
    "    )\n",
    "\"\"\")\n",
    "#cursor.execute(create_table_query)\n",
    "db.commit()\n",
    "\n",
    "print(\"✅ Table 'restaurants' is ready!\")\n"
   ]
  },
  {
   "cell_type": "code",
   "execution_count": 23,
   "id": "5b3d09f4-ea52-494b-960e-40b3fcca6753",
   "metadata": {},
   "outputs": [
    {
     "name": "stdout",
     "output_type": "stream",
     "text": [
      "Index(['Restaurant_Name', 'Category', 'Pricing_for_2', 'Locality',\n",
      "       'Dining_Rating', 'Dining_Review_Count', 'Delivery_Rating',\n",
      "       'Delivery_Rating_Count', 'Website', 'Address', 'Phone_No', 'Latitude',\n",
      "       'Longitude'],\n",
      "      dtype='object')\n"
     ]
    }
   ],
   "source": [
    "print(restaurants_df.columns)\n"
   ]
  },
  {
   "cell_type": "code",
   "execution_count": 29,
   "id": "f49e079e-b44d-4d79-8e6e-e9c29209ee12",
   "metadata": {},
   "outputs": [],
   "source": [
    "\n",
    "for _, row in restaurants_df.iterrows():\n",
    "    cursor.execute(\n",
    "        \"INSERT INTO Restaurants (restaurant_name, latitude, longitude) VALUES (%s, %s, %s)\",\n",
    "        (row['restaurant_name'], row['latitude'], row['longitude'])\n",
    "    )\n",
    "\n"
   ]
  },
  {
   "cell_type": "code",
   "execution_count": 30,
   "id": "3b50e670-e6f5-43d4-9f1c-e69e1abb050f",
   "metadata": {},
   "outputs": [
    {
     "name": "stdout",
     "output_type": "stream",
     "text": [
      "Data inserted successfully!\n"
     ]
    }
   ],
   "source": [
    "db.commit()\n",
    "print(\"Data inserted successfully!\")\n"
   ]
  },
  {
   "cell_type": "code",
   "execution_count": 34,
   "id": "93962330-86ed-4dcd-9b36-6725aafdb9b0",
   "metadata": {},
   "outputs": [],
   "source": [
    "home_lat = 12.9716  \n",
    "home_lon = 77.5946 "
   ]
  },
  {
   "cell_type": "code",
   "execution_count": 35,
   "id": "00140ca8-2fb9-4e6a-8a6e-be04e86f50bf",
   "metadata": {},
   "outputs": [],
   "source": [
    "query = \"\"\"\n",
    "    SELECT \n",
    "        restaurant_name,\n",
    "        latitude,\n",
    "        longitude,\n",
    "        ROUND(111.1 * SQRT(POW(latitude - %s, 2) + POW(longitude - %s, 2)), 0) AS distance_km,\n",
    "        RANK() OVER (ORDER BY distance_km ASC) AS rank_distance,\n",
    "        DENSE_RANK() OVER (ORDER BY distance_km ASC) AS dense_rank_distance\n",
    "    FROM Restaurants\n",
    "    ORDER BY distance_km;\n",
    "\"\"\"\n"
   ]
  },
  {
   "cell_type": "code",
   "execution_count": 39,
   "id": "c80934d5-cf50-401d-9bcb-d5e07b25341a",
   "metadata": {},
   "outputs": [],
   "source": [
    "query = \"\"\"\n",
    "    SELECT \n",
    "        restaurant_name,\n",
    "        latitude,\n",
    "        longitude,\n",
    "        ROUND(111.1 * SQRT(POW(latitude - %s, 2) + POW(longitude - %s, 2)), 0) AS distance_km,\n",
    "        RANK() OVER (ORDER BY ROUND(111.1 * SQRT(POW(latitude - %s, 2) + POW(longitude - %s, 2)), 0) ASC) AS rank_distance,\n",
    "        DENSE_RANK() OVER (ORDER BY ROUND(111.1 * SQRT(POW(latitude - %s, 2) + POW(longitude - %s, 2)), 0) ASC) AS dense_rank_distance\n",
    "    FROM Restaurants\n",
    "    ORDER BY distance_km;\n",
    "\"\"\"\n",
    "\n",
    "cursor.execute(query, (home_lat, home_lon, home_lat, home_lon, home_lat, home_lon))\n",
    "results = cursor.fetchall()"
   ]
  },
  {
   "cell_type": "code",
   "execution_count": 40,
   "id": "b2fc3e92-7c09-450f-bb89-973f2c00b6f2",
   "metadata": {},
   "outputs": [
    {
     "name": "stdout",
     "output_type": "stream",
     "text": [
      "                restaurant_name  latitude  longitude  distance_km  \\\n",
      "0                         Shiro   12.9718    77.5965          0.0   \n",
      "1          SodaBottleOpenerWala   12.9706    77.5976          0.0   \n",
      "2                       Toscano   12.9718    77.5959          0.0   \n",
      "3  Alba - JW Marriott Bengaluru   12.9719    77.5951          0.0   \n",
      "4                         Skyye   12.9716    77.5962          0.0   \n",
      "5                    Farzi Cafe   12.9723    77.5962          0.0   \n",
      "6                The Biere Club   12.9710    77.5975          0.0   \n",
      "7                      Rasovara   12.9720    77.5964          0.0   \n",
      "8              Glen's Bakehouse   12.9698    77.5975          0.0   \n",
      "9                       Sanchez   12.9719    77.5962          0.0   \n",
      "\n",
      "   rank_distance  dense_rank_distance  \n",
      "0              1                    1  \n",
      "1              1                    1  \n",
      "2              1                    1  \n",
      "3              1                    1  \n",
      "4              1                    1  \n",
      "5              1                    1  \n",
      "6              1                    1  \n",
      "7              1                    1  \n",
      "8              1                    1  \n",
      "9              1                    1  \n"
     ]
    }
   ],
   "source": [
    "columns = [\"restaurant_name\", \"latitude\", \"longitude\", \"distance_km\", \"rank_distance\", \"dense_rank_distance\"]\n",
    "df_results = pd.DataFrame(results, columns=columns)\n",
    "print(df_results.head(10))"
   ]
  },
  {
   "cell_type": "code",
   "execution_count": 45,
   "id": "0ae3d396-f1ef-44b8-9994-e2c8f383418e",
   "metadata": {},
   "outputs": [
    {
     "name": "stdout",
     "output_type": "stream",
     "text": [
      "Results saved successfully! 🎉\n"
     ]
    }
   ],
   "source": [
    "df_results.to_csv(r\"C:\\Users\\loges\\Downloads\\restraunt\\nearest restaurant.csv\", index=False)\n",
    "print(\"Results saved successfully! 🎉\")\n"
   ]
  },
  {
   "cell_type": "code",
   "execution_count": null,
   "id": "7b119a6e-5777-407d-9dfb-6f458ce274d6",
   "metadata": {},
   "outputs": [],
   "source": []
  }
 ],
 "metadata": {
  "kernelspec": {
   "display_name": "Python 3 (ipykernel)",
   "language": "python",
   "name": "python3"
  },
  "language_info": {
   "codemirror_mode": {
    "name": "ipython",
    "version": 3
   },
   "file_extension": ".py",
   "mimetype": "text/x-python",
   "name": "python",
   "nbconvert_exporter": "python",
   "pygments_lexer": "ipython3",
   "version": "3.12.4"
  }
 },
 "nbformat": 4,
 "nbformat_minor": 5
}
