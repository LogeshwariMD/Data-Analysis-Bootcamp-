{
 "cells": [
  {
   "cell_type": "code",
   "execution_count": 2,
   "id": "a46f4408-9b3f-440a-bb56-66b41ad649f5",
   "metadata": {},
   "outputs": [
    {
     "name": "stdout",
     "output_type": "stream",
     "text": [
      "Defaulting to user installation because normal site-packages is not writeable\n",
      "Requirement already satisfied: selenium in c:\\users\\loges\\appdata\\roaming\\python\\python312\\site-packages (4.29.0)\n",
      "Requirement already satisfied: urllib3<3,>=1.26 in c:\\programdata\\anaconda3\\lib\\site-packages (from urllib3[socks]<3,>=1.26->selenium) (2.2.2)\n",
      "Requirement already satisfied: trio~=0.17 in c:\\users\\loges\\appdata\\roaming\\python\\python312\\site-packages (from selenium) (0.29.0)\n",
      "Requirement already satisfied: trio-websocket~=0.9 in c:\\users\\loges\\appdata\\roaming\\python\\python312\\site-packages (from selenium) (0.12.1)\n",
      "Requirement already satisfied: certifi>=2021.10.8 in c:\\programdata\\anaconda3\\lib\\site-packages (from selenium) (2024.6.2)\n",
      "Requirement already satisfied: typing_extensions~=4.9 in c:\\programdata\\anaconda3\\lib\\site-packages (from selenium) (4.11.0)\n",
      "Requirement already satisfied: websocket-client~=1.8 in c:\\programdata\\anaconda3\\lib\\site-packages (from selenium) (1.8.0)\n",
      "Requirement already satisfied: attrs>=23.2.0 in c:\\users\\loges\\appdata\\roaming\\python\\python312\\site-packages (from trio~=0.17->selenium) (25.1.0)\n",
      "Requirement already satisfied: sortedcontainers in c:\\programdata\\anaconda3\\lib\\site-packages (from trio~=0.17->selenium) (2.4.0)\n",
      "Requirement already satisfied: idna in c:\\programdata\\anaconda3\\lib\\site-packages (from trio~=0.17->selenium) (3.7)\n",
      "Requirement already satisfied: outcome in c:\\users\\loges\\appdata\\roaming\\python\\python312\\site-packages (from trio~=0.17->selenium) (1.3.0.post0)\n",
      "Requirement already satisfied: sniffio>=1.3.0 in c:\\programdata\\anaconda3\\lib\\site-packages (from trio~=0.17->selenium) (1.3.0)\n",
      "Requirement already satisfied: cffi>=1.14 in c:\\programdata\\anaconda3\\lib\\site-packages (from trio~=0.17->selenium) (1.16.0)\n",
      "Requirement already satisfied: wsproto>=0.14 in c:\\users\\loges\\appdata\\roaming\\python\\python312\\site-packages (from trio-websocket~=0.9->selenium) (1.2.0)\n",
      "Requirement already satisfied: pysocks!=1.5.7,<2.0,>=1.5.6 in c:\\programdata\\anaconda3\\lib\\site-packages (from urllib3[socks]<3,>=1.26->selenium) (1.7.1)\n",
      "Requirement already satisfied: pycparser in c:\\programdata\\anaconda3\\lib\\site-packages (from cffi>=1.14->trio~=0.17->selenium) (2.21)\n",
      "Requirement already satisfied: h11<1,>=0.9.0 in c:\\users\\loges\\appdata\\roaming\\python\\python312\\site-packages (from wsproto>=0.14->trio-websocket~=0.9->selenium) (0.14.0)\n"
     ]
    }
   ],
   "source": [
    "!pip install selenium"
   ]
  },
  {
   "cell_type": "code",
   "execution_count": 10,
   "id": "3f2a0090-b723-4d12-88a3-38e358fe330e",
   "metadata": {},
   "outputs": [
    {
     "name": "stderr",
     "output_type": "stream",
     "text": [
      "<>:4: SyntaxWarning: invalid escape sequence '\\W'\n",
      "<>:4: SyntaxWarning: invalid escape sequence '\\W'\n",
      "C:\\Users\\loges\\AppData\\Local\\Temp\\ipykernel_29936\\414941418.py:4: SyntaxWarning: invalid escape sequence '\\W'\n",
      "  service = Service(\"C:\\Windows\\chromedriver.exe\")  # Change the path accordingly\n"
     ]
    },
    {
     "name": "stdout",
     "output_type": "stream",
     "text": [
      "133.0.6943.53 (9a80935019b0925b01cc21d254da203bc3986f04-refs/branch-heads/6943@{#1389})\n"
     ]
    }
   ],
   "source": [
    "from selenium import webdriver\n",
    "from selenium.webdriver.chrome.service import Service\n",
    "\n",
    "service = Service(\"C:\\Windows\\chromedriver.exe\")  # Change the path accordingly\n",
    "driver = webdriver.Chrome(service=service)\n",
    "\n",
    "# Print ChromeDriver version\n",
    "print(driver.capabilities['chrome']['chromedriverVersion'])\n",
    "\n",
    "driver.quit()\n",
    "\n",
    "\n"
   ]
  },
  {
   "cell_type": "code",
   "execution_count": 2,
   "id": "f2c5c5de-2077-4e37-8429-dc38ca353a85",
   "metadata": {},
   "outputs": [
    {
     "name": "stderr",
     "output_type": "stream",
     "text": [
      "<>:9: SyntaxWarning: invalid escape sequence '\\W'\n",
      "<>:9: SyntaxWarning: invalid escape sequence '\\W'\n",
      "C:\\Users\\loges\\AppData\\Local\\Temp\\ipykernel_22904\\710092137.py:9: SyntaxWarning: invalid escape sequence '\\W'\n",
      "  service = Service(\"C:\\Windows\\chromedriver.exe\")  # Update path if needed\n",
      "C:\\Users\\loges\\AppData\\Local\\Temp\\ipykernel_22904\\710092137.py:9: SyntaxWarning: invalid escape sequence '\\W'\n",
      "  service = Service(\"C:\\Windows\\chromedriver.exe\")  # Update path if needed\n"
     ]
    },
    {
     "ename": "NoSuchElementException",
     "evalue": "Message: no such element: Unable to locate element: {\"method\":\"css selector\",\"selector\":\"[name=\"sile.ntgirl7327\"]\"}\n  (Session info: chrome=133.0.6943.127); For documentation on this error, please visit: https://www.selenium.dev/documentation/webdriver/troubleshooting/errors#no-such-element-exception\nStacktrace:\n\tGetHandleVerifier [0x00670A33+25139]\n\t(No symbol) [0x00601134]\n\t(No symbol) [0x004E0523]\n\t(No symbol) [0x00528387]\n\t(No symbol) [0x005286DB]\n\t(No symbol) [0x00570FC2]\n\t(No symbol) [0x0054CFB4]\n\t(No symbol) [0x0056E738]\n\t(No symbol) [0x0054CD66]\n\t(No symbol) [0x0051BD99]\n\t(No symbol) [0x0051D0D4]\n\tGetHandleVerifier [0x00973A23+3183139]\n\tGetHandleVerifier [0x0098FE8A+3298954]\n\tGetHandleVerifier [0x0098A462+3275874]\n\tGetHandleVerifier [0x00707770+642928]\n\t(No symbol) [0x0060A01D]\n\t(No symbol) [0x00606E48]\n\t(No symbol) [0x00606FE7]\n\t(No symbol) [0x005F9CE0]\n\tBaseThreadInitThunk [0x75125D49+25]\n\tRtlInitializeExceptionChain [0x7733CDEB+107]\n\tRtlGetAppContainerNamedObjectPath [0x7733CD71+561]\n",
     "output_type": "error",
     "traceback": [
      "\u001b[1;31m---------------------------------------------------------------------------\u001b[0m",
      "\u001b[1;31mNoSuchElementException\u001b[0m                    Traceback (most recent call last)",
      "Cell \u001b[1;32mIn[2], line 19\u001b[0m\n\u001b[0;32m     16\u001b[0m time\u001b[38;5;241m.\u001b[39msleep(\u001b[38;5;241m5\u001b[39m)\n\u001b[0;32m     18\u001b[0m \u001b[38;5;66;03m# Enter username and password\u001b[39;00m\n\u001b[1;32m---> 19\u001b[0m username \u001b[38;5;241m=\u001b[39m driver\u001b[38;5;241m.\u001b[39mfind_element(By\u001b[38;5;241m.\u001b[39mNAME, \u001b[38;5;124m\"\u001b[39m\u001b[38;5;124msile.ntgirl7327\u001b[39m\u001b[38;5;124m\"\u001b[39m)\n\u001b[0;32m     20\u001b[0m password \u001b[38;5;241m=\u001b[39m driver\u001b[38;5;241m.\u001b[39mfind_element(By\u001b[38;5;241m.\u001b[39mNAME, \u001b[38;5;124m\"\u001b[39m\u001b[38;5;124mLogesh@2005\u001b[39m\u001b[38;5;124m\"\u001b[39m)\n\u001b[0;32m     22\u001b[0m username\u001b[38;5;241m.\u001b[39msend_keys(\u001b[38;5;124m\"\u001b[39m\u001b[38;5;124msile.ntgirl7327\u001b[39m\u001b[38;5;124m\"\u001b[39m)\n",
      "File \u001b[1;32m~\\AppData\\Roaming\\Python\\Python312\\site-packages\\selenium\\webdriver\\remote\\webdriver.py:898\u001b[0m, in \u001b[0;36mWebDriver.find_element\u001b[1;34m(self, by, value)\u001b[0m\n\u001b[0;32m    895\u001b[0m         \u001b[38;5;28;01mraise\u001b[39;00m NoSuchElementException(\u001b[38;5;124mf\u001b[39m\u001b[38;5;124m\"\u001b[39m\u001b[38;5;124mCannot locate relative element with: \u001b[39m\u001b[38;5;132;01m{\u001b[39;00mby\u001b[38;5;241m.\u001b[39mroot\u001b[38;5;132;01m}\u001b[39;00m\u001b[38;5;124m\"\u001b[39m)\n\u001b[0;32m    896\u001b[0m     \u001b[38;5;28;01mreturn\u001b[39;00m elements[\u001b[38;5;241m0\u001b[39m]\n\u001b[1;32m--> 898\u001b[0m \u001b[38;5;28;01mreturn\u001b[39;00m \u001b[38;5;28mself\u001b[39m\u001b[38;5;241m.\u001b[39mexecute(Command\u001b[38;5;241m.\u001b[39mFIND_ELEMENT, {\u001b[38;5;124m\"\u001b[39m\u001b[38;5;124musing\u001b[39m\u001b[38;5;124m\"\u001b[39m: by, \u001b[38;5;124m\"\u001b[39m\u001b[38;5;124mvalue\u001b[39m\u001b[38;5;124m\"\u001b[39m: value})[\u001b[38;5;124m\"\u001b[39m\u001b[38;5;124mvalue\u001b[39m\u001b[38;5;124m\"\u001b[39m]\n",
      "File \u001b[1;32m~\\AppData\\Roaming\\Python\\Python312\\site-packages\\selenium\\webdriver\\remote\\webdriver.py:429\u001b[0m, in \u001b[0;36mWebDriver.execute\u001b[1;34m(self, driver_command, params)\u001b[0m\n\u001b[0;32m    427\u001b[0m response \u001b[38;5;241m=\u001b[39m \u001b[38;5;28mself\u001b[39m\u001b[38;5;241m.\u001b[39mcommand_executor\u001b[38;5;241m.\u001b[39mexecute(driver_command, params)\n\u001b[0;32m    428\u001b[0m \u001b[38;5;28;01mif\u001b[39;00m response:\n\u001b[1;32m--> 429\u001b[0m     \u001b[38;5;28mself\u001b[39m\u001b[38;5;241m.\u001b[39merror_handler\u001b[38;5;241m.\u001b[39mcheck_response(response)\n\u001b[0;32m    430\u001b[0m     response[\u001b[38;5;124m\"\u001b[39m\u001b[38;5;124mvalue\u001b[39m\u001b[38;5;124m\"\u001b[39m] \u001b[38;5;241m=\u001b[39m \u001b[38;5;28mself\u001b[39m\u001b[38;5;241m.\u001b[39m_unwrap_value(response\u001b[38;5;241m.\u001b[39mget(\u001b[38;5;124m\"\u001b[39m\u001b[38;5;124mvalue\u001b[39m\u001b[38;5;124m\"\u001b[39m, \u001b[38;5;28;01mNone\u001b[39;00m))\n\u001b[0;32m    431\u001b[0m     \u001b[38;5;28;01mreturn\u001b[39;00m response\n",
      "File \u001b[1;32m~\\AppData\\Roaming\\Python\\Python312\\site-packages\\selenium\\webdriver\\remote\\errorhandler.py:232\u001b[0m, in \u001b[0;36mErrorHandler.check_response\u001b[1;34m(self, response)\u001b[0m\n\u001b[0;32m    230\u001b[0m         alert_text \u001b[38;5;241m=\u001b[39m value[\u001b[38;5;124m\"\u001b[39m\u001b[38;5;124malert\u001b[39m\u001b[38;5;124m\"\u001b[39m]\u001b[38;5;241m.\u001b[39mget(\u001b[38;5;124m\"\u001b[39m\u001b[38;5;124mtext\u001b[39m\u001b[38;5;124m\"\u001b[39m)\n\u001b[0;32m    231\u001b[0m     \u001b[38;5;28;01mraise\u001b[39;00m exception_class(message, screen, stacktrace, alert_text)  \u001b[38;5;66;03m# type: ignore[call-arg]  # mypy is not smart enough here\u001b[39;00m\n\u001b[1;32m--> 232\u001b[0m \u001b[38;5;28;01mraise\u001b[39;00m exception_class(message, screen, stacktrace)\n",
      "\u001b[1;31mNoSuchElementException\u001b[0m: Message: no such element: Unable to locate element: {\"method\":\"css selector\",\"selector\":\"[name=\"sile.ntgirl7327\"]\"}\n  (Session info: chrome=133.0.6943.127); For documentation on this error, please visit: https://www.selenium.dev/documentation/webdriver/troubleshooting/errors#no-such-element-exception\nStacktrace:\n\tGetHandleVerifier [0x00670A33+25139]\n\t(No symbol) [0x00601134]\n\t(No symbol) [0x004E0523]\n\t(No symbol) [0x00528387]\n\t(No symbol) [0x005286DB]\n\t(No symbol) [0x00570FC2]\n\t(No symbol) [0x0054CFB4]\n\t(No symbol) [0x0056E738]\n\t(No symbol) [0x0054CD66]\n\t(No symbol) [0x0051BD99]\n\t(No symbol) [0x0051D0D4]\n\tGetHandleVerifier [0x00973A23+3183139]\n\tGetHandleVerifier [0x0098FE8A+3298954]\n\tGetHandleVerifier [0x0098A462+3275874]\n\tGetHandleVerifier [0x00707770+642928]\n\t(No symbol) [0x0060A01D]\n\t(No symbol) [0x00606E48]\n\t(No symbol) [0x00606FE7]\n\t(No symbol) [0x005F9CE0]\n\tBaseThreadInitThunk [0x75125D49+25]\n\tRtlInitializeExceptionChain [0x7733CDEB+107]\n\tRtlGetAppContainerNamedObjectPath [0x7733CD71+561]\n"
     ]
    }
   ],
   "source": [
    "from selenium import webdriver\n",
    "from selenium.webdriver.common.by import By\n",
    "from selenium.webdriver.common.keys import Keys\n",
    "from selenium.webdriver.chrome.service import Service\n",
    "from selenium.webdriver.common.action_chains import ActionChains\n",
    "import time\n",
    "\n",
    "# Setup Chrome driver\n",
    "service = Service(\"C:\\Windows\\chromedriver.exe\")  # Update path if needed\n",
    "options = webdriver.ChromeOptions()\n",
    "options.add_argument(\"--disable-notifications\")  # Disable pop-ups\n",
    "driver = webdriver.Chrome(service=service, options=options)\n",
    "\n",
    "# Open Instagram and log in\n",
    "driver.get(\"https://www.instagram.com/\")\n",
    "time.sleep(5)\n",
    "\n",
    "# Enter username and password\n",
    "username = driver.find_element(By.NAME, \"sile.ntgirl7327\")\n",
    "password = driver.find_element(By.NAME, \"Logesh@2005\")\n",
    "\n",
    "username.send_keys(\"sile.ntgirl7327\")\n",
    "password.send_keys(\"deepa@2005\")\n",
    "password.send_keys(Keys.RETURN)\n",
    "time.sleep(5)\n",
    "\n",
    "# Navigate to Reels\n",
    "driver.get(\"https://www.instagram.com/reels/\")\n",
    "time.sleep(5)\n",
    "\n",
    "# Watch and scroll through Reels\n",
    "while True:\n",
    "    try:\n",
    "        # Find video element\n",
    "        video = driver.find_element(By.TAG_NAME, \"video\")\n",
    "        \n",
    "        # Get reel duration\n",
    "        reel_duration = float(video.get_attribute(\"duration\"))\n",
    "        print(f\"Watching reel for {reel_duration} seconds\")\n",
    "\n",
    "        # Wait until the reel completes\n",
    "        time.sleep(reel_duration)\n",
    "\n",
    "        # Scroll to the next reel using arrow key\n",
    "        actions = ActionChains(driver)\n",
    "        actions.send_keys(Keys.ARROW_DOWN).perform()\n",
    "        time.sleep(2)\n",
    "\n",
    "    except Exception as e:\n",
    "        print(f\"Error: {e}\")\n",
    "        break\n",
    "\n",
    "# Close browser after task completion\n",
    "driver.quit()\n"
   ]
  },
  {
   "cell_type": "code",
   "execution_count": 1,
   "id": "a7d86231-ed1f-4cfd-a523-e78a351c366c",
   "metadata": {},
   "outputs": [
    {
     "name": "stderr",
     "output_type": "stream",
     "text": [
      "<>:10: SyntaxWarning: invalid escape sequence '\\W'\n",
      "<>:10: SyntaxWarning: invalid escape sequence '\\W'\n",
      "C:\\Users\\loges\\AppData\\Local\\Temp\\ipykernel_22904\\1756892043.py:10: SyntaxWarning: invalid escape sequence '\\W'\n",
      "  service = Service(\"C:\\Windows\\chromedriver.exe\")  # Change this path if needed\n"
     ]
    },
    {
     "name": "stdout",
     "output_type": "stream",
     "text": [
      "🔄 Logging into Instagram...\n",
      "✅ Login successful!\n",
      "🔥 Auto-scrolling Reels every 2 seconds...\n",
      "❌ Error: Message: invalid session id: session deleted as the browser has closed the connection\n",
      "from disconnected: not connected to DevTools\n",
      "  (Session info: chrome=133.0.6943.127)\n",
      "Stacktrace:\n",
      "\tGetHandleVerifier [0x00670A33+25139]\n",
      "\t(No symbol) [0x00601134]\n",
      "\t(No symbol) [0x004E0523]\n",
      "\t(No symbol) [0x004CFE40]\n",
      "\t(No symbol) [0x004ED8DA]\n",
      "\t(No symbol) [0x00553D7F]\n",
      "\t(No symbol) [0x0056E019]\n",
      "\t(No symbol) [0x0054CD66]\n",
      "\t(No symbol) [0x0051BD99]\n",
      "\t(No symbol) [0x0051D0D4]\n",
      "\tGetHandleVerifier [0x00973A23+3183139]\n",
      "\tGetHandleVerifier [0x0098FE8A+3298954]\n",
      "\tGetHandleVerifier [0x0098A462+3275874]\n",
      "\tGetHandleVerifier [0x00707770+642928]\n",
      "\t(No symbol) [0x0060A01D]\n",
      "\t(No symbol) [0x00606E48]\n",
      "\t(No symbol) [0x00606FE7]\n",
      "\t(No symbol) [0x005F9CE0]\n",
      "\tBaseThreadInitThunk [0x75125D49+25]\n",
      "\tRtlInitializeExceptionChain [0x7733CDEB+107]\n",
      "\tRtlGetAppContainerNamedObjectPath [0x7733CD71+561]\n",
      "\n"
     ]
    }
   ],
   "source": [
    "from selenium import webdriver\n",
    "from selenium.webdriver.common.by import By\n",
    "from selenium.webdriver.common.keys import Keys\n",
    "from selenium.webdriver.chrome.service import Service\n",
    "from selenium.webdriver.support.ui import WebDriverWait\n",
    "from selenium.webdriver.support import expected_conditions as EC\n",
    "import time\n",
    "\n",
    "# 🔹 Set up Chrome WebDriver (Ensure chromedriver is installed)\n",
    "service = Service(\"C:\\Windows\\chromedriver.exe\")  # Change this path if needed\n",
    "options = webdriver.ChromeOptions()\n",
    "options.add_argument(\"--disable-notifications\")  # Disable pop-ups\n",
    "\n",
    "# 🔹 Launch Chrome browser\n",
    "driver = webdriver.Chrome(service=service, options=options)\n",
    "wait = WebDriverWait(driver, 15)  # Wait up to 15 seconds for elements\n",
    "\n",
    "# 🔹 Open Instagram login page\n",
    "driver.get(\"https://www.instagram.com/accounts/login/\")\n",
    "time.sleep(5)  # Allow time for page to load\n",
    "\n",
    "# 🔹 Enter login credentials (Replace with your Instagram username and password)\n",
    "USERNAME = \"your_username\"\n",
    "PASSWORD = \"your_password\"\n",
    "\n",
    "try:\n",
    "    print(\"🔄 Logging into Instagram...\")\n",
    "\n",
    "    # Wait until username and password fields are visible\n",
    "    username_input = wait.until(EC.presence_of_element_located((By.NAME, \"username\")))\n",
    "    password_input = wait.until(EC.presence_of_element_located((By.NAME, \"password\")))\n",
    "\n",
    "    username_input.send_keys(USERNAME)\n",
    "    password_input.send_keys(PASSWORD)\n",
    "    password_input.send_keys(Keys.RETURN)\n",
    "\n",
    "    # Wait for home page to load\n",
    "    time.sleep(7)\n",
    "\n",
    "    print(\"✅ Login successful!\")\n",
    "\n",
    "except Exception as e:\n",
    "    print(\"❌ Login failed:\", e)\n",
    "    driver.quit()\n",
    "    exit()\n",
    "\n",
    "# 🔹 Navigate to Instagram Reels\n",
    "driver.get(\"https://www.instagram.com/reels/\")\n",
    "time.sleep(5)  # Allow time for Reels page to load\n",
    "\n",
    "# 🔹 Auto-scroll through Reels every 2 seconds\n",
    "print(\"🔥 Auto-scrolling Reels every 2 seconds...\")\n",
    "\n",
    "while True:\n",
    "    try:\n",
    "        # 🔹 Scroll to the next reel using the SPACE key (Alternative: ARROW_DOWN)\n",
    "        driver.find_element(By.TAG_NAME, \"body\").send_keys(Keys.SPACE)\n",
    "        time.sleep(2)  # Wait 2 seconds before scrolling again\n",
    "\n",
    "    except Exception as e:\n",
    "        print(f\"❌ Error: {e}\")\n",
    "        break\n",
    "\n",
    "# Close browser after scrolling is done\n",
    "driver.quit()\n",
    "\n",
    "\n"
   ]
  },
  {
   "cell_type": "code",
   "execution_count": null,
   "id": "a7b837b3-0a3f-4c39-95af-726df09ac433",
   "metadata": {},
   "outputs": [],
   "source": []
  }
 ],
 "metadata": {
  "kernelspec": {
   "display_name": "Python 3 (ipykernel)",
   "language": "python",
   "name": "python3"
  },
  "language_info": {
   "codemirror_mode": {
    "name": "ipython",
    "version": 3
   },
   "file_extension": ".py",
   "mimetype": "text/x-python",
   "name": "python",
   "nbconvert_exporter": "python",
   "pygments_lexer": "ipython3",
   "version": "3.12.4"
  }
 },
 "nbformat": 4,
 "nbformat_minor": 5
}
