{
 "cells": [
  {
   "cell_type": "code",
   "execution_count": 6,
   "id": "365b47d4-c173-4262-ad14-077fbd0d8549",
   "metadata": {},
   "outputs": [],
   "source": [
    "import pandas as pd\n",
    "from sklearn.feature_extraction.text import CountVectorizer, TfidfVectorizer\n",
    "\n"
   ]
  },
  {
   "cell_type": "code",
   "execution_count": 7,
   "id": "39f04061-dcf9-4bbb-b5fe-2b55563f79d2",
   "metadata": {},
   "outputs": [],
   "source": [
    "\n",
    "df = pd.read_csv(\"spam.csv\", encoding=\"latin-1\")\n",
    "\n"
   ]
  },
  {
   "cell_type": "code",
   "execution_count": 8,
   "id": "7a85f56b-2098-4664-9a39-96df2e007b5d",
   "metadata": {},
   "outputs": [],
   "source": [
    "df = df[['v1', 'v2']]\n",
    "df.columns = ['label', 'text']\n",
    "\n"
   ]
  },
  {
   "cell_type": "code",
   "execution_count": 9,
   "id": "46582037-15cf-4926-bf04-eec2cb551a06",
   "metadata": {},
   "outputs": [],
   "source": [
    "count_vectorizer = CountVectorizer()\n",
    "tfidf_vectorizer = TfidfVectorizer()\n",
    "\n",
    "# Fit and transform the text data"
   ]
  },
  {
   "cell_type": "code",
   "execution_count": 10,
   "id": "47edd22a-7cd3-4447-b815-18ce282109a2",
   "metadata": {},
   "outputs": [],
   "source": [
    "# Fit and transform the text data\n",
    "count_vectors = count_vectorizer.fit_transform(df['text'])\n",
    "tfidf_vectors = tfidf_vectorizer.fit_transform(df['text'])\n"
   ]
  },
  {
   "cell_type": "code",
   "execution_count": 11,
   "id": "9b6df1a9-3622-4ae0-8ce9-17003184da23",
   "metadata": {},
   "outputs": [],
   "source": [
    "# Convert to DataFrame for better visualization\n",
    "count_df = pd.DataFrame(count_vectors.toarray(), columns=count_vectorizer.get_feature_names_out())\n",
    "tfidf_df = pd.DataFrame(tfidf_vectors.toarray(), columns=tfidf_vectorizer.get_feature_names_out())"
   ]
  },
  {
   "cell_type": "code",
   "execution_count": 12,
   "id": "2d00d461-f463-4d8e-b20a-742e7475f36f",
   "metadata": {},
   "outputs": [
    {
     "name": "stdout",
     "output_type": "stream",
     "text": [
      "Count Vectorizer Representation:\n",
      "   00  000  000pes  008704050406  0089  0121  01223585236  01223585334  \\\n",
      "0   0    0       0             0     0     0            0            0   \n",
      "1   0    0       0             0     0     0            0            0   \n",
      "2   0    0       0             0     0     0            0            0   \n",
      "3   0    0       0             0     0     0            0            0   \n",
      "4   0    0       0             0     0     0            0            0   \n",
      "\n",
      "   0125698789  02  ...  ó_  û_  û_thanks  ûªm  ûªt  ûªve  ûï  ûïharry  ûò  \\\n",
      "0           0   0  ...   0   0         0    0    0     0   0        0   0   \n",
      "1           0   0  ...   0   0         0    0    0     0   0        0   0   \n",
      "2           0   0  ...   0   0         0    0    0     0   0        0   0   \n",
      "3           0   0  ...   0   0         0    0    0     0   0        0   0   \n",
      "4           0   0  ...   0   0         0    0    0     0   0        0   0   \n",
      "\n",
      "   ûówell  \n",
      "0       0  \n",
      "1       0  \n",
      "2       0  \n",
      "3       0  \n",
      "4       0  \n",
      "\n",
      "[5 rows x 8672 columns]\n",
      "\n",
      "TF-IDF Vectorizer Representation:\n",
      "    00  000  000pes  008704050406  0089  0121  01223585236  01223585334  \\\n",
      "0  0.0  0.0     0.0           0.0   0.0   0.0          0.0          0.0   \n",
      "1  0.0  0.0     0.0           0.0   0.0   0.0          0.0          0.0   \n",
      "2  0.0  0.0     0.0           0.0   0.0   0.0          0.0          0.0   \n",
      "3  0.0  0.0     0.0           0.0   0.0   0.0          0.0          0.0   \n",
      "4  0.0  0.0     0.0           0.0   0.0   0.0          0.0          0.0   \n",
      "\n",
      "   0125698789   02  ...   ó_   û_  û_thanks  ûªm  ûªt  ûªve   ûï  ûïharry  \\\n",
      "0         0.0  0.0  ...  0.0  0.0       0.0  0.0  0.0   0.0  0.0      0.0   \n",
      "1         0.0  0.0  ...  0.0  0.0       0.0  0.0  0.0   0.0  0.0      0.0   \n",
      "2         0.0  0.0  ...  0.0  0.0       0.0  0.0  0.0   0.0  0.0      0.0   \n",
      "3         0.0  0.0  ...  0.0  0.0       0.0  0.0  0.0   0.0  0.0      0.0   \n",
      "4         0.0  0.0  ...  0.0  0.0       0.0  0.0  0.0   0.0  0.0      0.0   \n",
      "\n",
      "    ûò  ûówell  \n",
      "0  0.0     0.0  \n",
      "1  0.0     0.0  \n",
      "2  0.0     0.0  \n",
      "3  0.0     0.0  \n",
      "4  0.0     0.0  \n",
      "\n",
      "[5 rows x 8672 columns]\n"
     ]
    }
   ],
   "source": [
    "# Display results\n",
    "print(\"Count Vectorizer Representation:\")\n",
    "print(count_df.head())\n",
    "\n",
    "print(\"\\nTF-IDF Vectorizer Representation:\")\n",
    "print(tfidf_df.head())\n"
   ]
  },
  {
   "cell_type": "code",
   "execution_count": null,
   "id": "f762a5d3-3e61-4040-b0e0-f6ca7540f32a",
   "metadata": {},
   "outputs": [],
   "source": []
  }
 ],
 "metadata": {
  "kernelspec": {
   "display_name": "Python 3 (ipykernel)",
   "language": "python",
   "name": "python3"
  },
  "language_info": {
   "codemirror_mode": {
    "name": "ipython",
    "version": 3
   },
   "file_extension": ".py",
   "mimetype": "text/x-python",
   "name": "python",
   "nbconvert_exporter": "python",
   "pygments_lexer": "ipython3",
   "version": "3.12.4"
  }
 },
 "nbformat": 4,
 "nbformat_minor": 5
}
