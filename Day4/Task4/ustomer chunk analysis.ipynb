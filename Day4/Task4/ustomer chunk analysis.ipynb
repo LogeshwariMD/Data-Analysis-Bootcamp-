{
 "cells": [
  {
   "cell_type": "code",
   "execution_count": null,
   "id": "5b73de0a-85bc-4b69-9179-8944046823b2",
   "metadata": {},
   "outputs": [],
   "source": [
    "import pandas as pd\n",
    "import numpy as np\n",
    "import seaborn as sns\n",
    "import matplotlib.pyplot as plt\n",
    "\n",
    "# Load the dataset\n",
    "file_path = \"validation.csv\"\n",
    "df = pd.read_csv(file_path)\n",
    "\n",
    "# Convert 'Churn' column to numerical format (if not already)\n",
    "df['Churn'] = df['Churn'].astype(int)\n",
    "\n",
    "# Select numeric columns only for correlation analysis\n",
    "numeric_cols = df.select_dtypes(include=[np.number])\n",
    "\n",
    "# Compute correlation matrix\n",
    "correlation_matrix = numeric_cols.corr()\n",
    "\n",
    "# Get correlations with churn, sorted by absolute value\n",
    "churn_correlation = correlation_matrix['Churn'].abs().sort_values(ascending=False)\n",
    "\n",
    "# Display the top 5 features most correlated with churn\n",
    "top_predictors = churn_correlation[1:6]  # Excluding 'Churn' itself\n",
    "print(\"Top Predictors of Customer Churn:\")\n",
    "print(top_predictors)\n",
    "\n",
    "# Plot heatmap of correlations with churn\n",
    "plt.figure(figsize=(8, 6))\n",
    "sns.heatmap(correlation_matrix[['Churn']].sort_values(by='Churn', ascending=False), \n",
    "            annot=True, cmap='coolwarm', fmt='.2f')\n",
    "plt.title(\"Feature Correlation with Customer Churn\")\n",
    "plt.show()\n"
   ]
  },
  {
   "cell_type": "code",
   "execution_count": null,
   "id": "f742ebae-1199-4767-a8a3-335c82f791b0",
   "metadata": {},
   "outputs": [],
   "source": [
    "file_path = \"validation.csv\"\n",
    "df = pd.read_csv(file_path)"
   ]
  },
  {
   "cell_type": "code",
   "execution_count": null,
   "id": "0a599313-da14-4cd6-a2ab-08225aa73992",
   "metadata": {},
   "outputs": [],
   "source": [
    "df['Churn'] = df['Churn'].astype(int)"
   ]
  },
  {
   "cell_type": "code",
   "execution_count": null,
   "id": "75cb79a8-b7c2-47f9-874e-ab9fd5cccf92",
   "metadata": {},
   "outputs": [],
   "source": [
    "numeric_cols = df.select_dtypes(include=[np.number])"
   ]
  },
  {
   "cell_type": "code",
   "execution_count": null,
   "id": "f512458e-d919-443d-b8d8-5042a01c36ad",
   "metadata": {},
   "outputs": [],
   "source": [
    "correlation_matrix = numeric_cols.corr()"
   ]
  },
  {
   "cell_type": "code",
   "execution_count": null,
   "id": "a7664ba8-96e0-43e7-a283-1ba4a7aabcab",
   "metadata": {},
   "outputs": [],
   "source": [
    "churn_correlation = correlation_matrix['Churn'].abs().sort_values(ascending=False)\n"
   ]
  },
  {
   "cell_type": "code",
   "execution_count": null,
   "id": "2a152c11-4314-40ef-8eef-b9d6a49b4b06",
   "metadata": {},
   "outputs": [],
   "source": []
  },
  {
   "cell_type": "code",
   "execution_count": null,
   "id": "b2feb1fe-5c6a-4585-a428-f041132ecc6a",
   "metadata": {},
   "outputs": [],
   "source": []
  },
  {
   "cell_type": "code",
   "execution_count": null,
   "id": "fb3c0956-4165-4d2e-9402-a2aab5b59ec5",
   "metadata": {},
   "outputs": [],
   "source": []
  }
 ],
 "metadata": {
  "kernelspec": {
   "display_name": "Python 3 (ipykernel)",
   "language": "python",
   "name": "python3"
  },
  "language_info": {
   "codemirror_mode": {
    "name": "ipython",
    "version": 3
   },
   "file_extension": ".py",
   "mimetype": "text/x-python",
   "name": "python",
   "nbconvert_exporter": "python",
   "pygments_lexer": "ipython3",
   "version": "3.12.4"
  }
 },
 "nbformat": 4,
 "nbformat_minor": 5
}
